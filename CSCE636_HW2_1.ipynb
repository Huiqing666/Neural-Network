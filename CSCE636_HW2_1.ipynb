{
  "nbformat": 4,
  "nbformat_minor": 0,
  "metadata": {
    "colab": {
      "name": "CSCE636_HW2_1.ipynb",
      "version": "0.3.2",
      "provenance": []
    },
    "kernelspec": {
      "name": "python3",
      "display_name": "Python 3"
    }
  },
  "cells": [
    {
      "metadata": {
        "id": "tSveJ_FMF1po",
        "colab_type": "text"
      },
      "cell_type": "markdown",
      "source": [
        "CSCE 636 Homework 2-1 Movie Review classification"
      ]
    },
    {
      "metadata": {
        "id": "kqgO_0yB77Jk",
        "colab_type": "code",
        "outputId": "efa85817-aa74-4bd8-87d8-e4a2b0e74dc0",
        "colab": {
          "base_uri": "https://localhost:8080/",
          "height": 67
        }
      },
      "cell_type": "code",
      "source": [
        "# import imdb dataset\n",
        "from keras.datasets import imdb\n",
        "(train_data, train_labels), (test_data, test_labels) = imdb.load_data(num_words=10000)"
      ],
      "execution_count": 1,
      "outputs": [
        {
          "output_type": "stream",
          "text": [
            "Using TensorFlow backend.\n"
          ],
          "name": "stderr"
        },
        {
          "output_type": "stream",
          "text": [
            "Downloading data from https://s3.amazonaws.com/text-datasets/imdb.npz\n",
            "17465344/17464789 [==============================] - 0s 0us/step\n"
          ],
          "name": "stdout"
        }
      ]
    },
    {
      "metadata": {
        "id": "Jr5tCu0O8iEE",
        "colab_type": "code",
        "outputId": "706d0d22-f019-4d84-d232-417e676913a7",
        "colab": {
          "base_uri": "https://localhost:8080/",
          "height": 34
        }
      },
      "cell_type": "code",
      "source": [
        "max([max(sequence) for sequence in train_data])"
      ],
      "execution_count": 2,
      "outputs": [
        {
          "output_type": "execute_result",
          "data": {
            "text/plain": [
              "9999"
            ]
          },
          "metadata": {
            "tags": []
          },
          "execution_count": 2
        }
      ]
    },
    {
      "metadata": {
        "id": "NS3Oz6sP84UN",
        "colab_type": "code",
        "colab": {}
      },
      "cell_type": "code",
      "source": [
        "# preparing the data\n",
        "# one-hot encode, vectorize the data\n",
        "import numpy as np\n",
        "\n",
        "def vectorize_sequences(sequences, dimension=10000):\n",
        "  results = np.zeros((len(sequences), dimension))\n",
        "  for i, sequence in enumerate(sequences):\n",
        "    results[i, sequence] = 1\n",
        "  return results\n",
        "\n",
        "x_train = vectorize_sequences(train_data)\n",
        "x_test = vectorize_sequences(test_data)\n",
        "  "
      ],
      "execution_count": 0,
      "outputs": []
    },
    {
      "metadata": {
        "id": "SnXbkgbX-d_4",
        "colab_type": "code",
        "colab": {}
      },
      "cell_type": "code",
      "source": [
        "# vectorize the labels\n",
        "y_train = np.asarray(train_labels).astype('float32')\n",
        "y_test = np.asarray(test_labels).astype('float32')"
      ],
      "execution_count": 0,
      "outputs": []
    },
    {
      "metadata": {
        "id": "VqezR0vL-voz",
        "colab_type": "code",
        "colab": {}
      },
      "cell_type": "code",
      "source": [
        "# model definition\n",
        "from keras import models\n",
        "from keras import layers\n",
        "\n",
        "model = models.Sequential()\n",
        "model.add(layers.Dense(16, activation='relu', input_shape=(10000,)))\n",
        "model.add(layers.Dense(16, activation='relu'))\n",
        "model.add(layers.Dense(1, activation='sigmoid'))"
      ],
      "execution_count": 0,
      "outputs": []
    },
    {
      "metadata": {
        "id": "9Hk7Zk4L_sl3",
        "colab_type": "code",
        "colab": {}
      },
      "cell_type": "code",
      "source": [
        "# compile the model\n",
        "model.compile(optimizer='rmsprop', loss='binary_crossentropy', metrics=['accuracy'])"
      ],
      "execution_count": 0,
      "outputs": []
    },
    {
      "metadata": {
        "id": "4pm0GiIqAa4z",
        "colab_type": "code",
        "colab": {}
      },
      "cell_type": "code",
      "source": [
        "# create a validation set\n",
        "x_val = x_train[:10000]\n",
        "partial_x_train = x_train[10000:]\n",
        "\n",
        "y_val = y_train[:10000]\n",
        "partial_y_train = y_train[10000:]"
      ],
      "execution_count": 0,
      "outputs": []
    },
    {
      "metadata": {
        "id": "MaSEbNVKBXoD",
        "colab_type": "code",
        "outputId": "9b82c628-53db-4a59-a7d7-aabccfd20a3a",
        "colab": {
          "base_uri": "https://localhost:8080/",
          "height": 706
        }
      },
      "cell_type": "code",
      "source": [
        "# train the model\n",
        "history = model.fit(partial_x_train, \n",
        "                    partial_y_train,\n",
        "                    epochs=20,\n",
        "                    batch_size=512,\n",
        "                    validation_data=(x_val, y_val))"
      ],
      "execution_count": 8,
      "outputs": [
        {
          "output_type": "stream",
          "text": [
            "Train on 15000 samples, validate on 10000 samples\n",
            "Epoch 1/20\n",
            "15000/15000 [==============================] - 2s 148us/step - loss: 0.5048 - acc: 0.7872 - val_loss: 0.3774 - val_acc: 0.8703\n",
            "Epoch 2/20\n",
            "15000/15000 [==============================] - 2s 129us/step - loss: 0.2991 - acc: 0.9049 - val_loss: 0.3002 - val_acc: 0.8896\n",
            "Epoch 3/20\n",
            "15000/15000 [==============================] - 2s 129us/step - loss: 0.2173 - acc: 0.9282 - val_loss: 0.3081 - val_acc: 0.8717\n",
            "Epoch 4/20\n",
            "15000/15000 [==============================] - 2s 128us/step - loss: 0.1747 - acc: 0.9438 - val_loss: 0.2826 - val_acc: 0.8843\n",
            "Epoch 5/20\n",
            "15000/15000 [==============================] - 2s 131us/step - loss: 0.1422 - acc: 0.9540 - val_loss: 0.2855 - val_acc: 0.8858\n",
            "Epoch 6/20\n",
            "15000/15000 [==============================] - 2s 130us/step - loss: 0.1148 - acc: 0.9653 - val_loss: 0.3140 - val_acc: 0.8777\n",
            "Epoch 7/20\n",
            "15000/15000 [==============================] - 2s 129us/step - loss: 0.0977 - acc: 0.9709 - val_loss: 0.3131 - val_acc: 0.8844\n",
            "Epoch 8/20\n",
            "15000/15000 [==============================] - 2s 128us/step - loss: 0.0806 - acc: 0.9763 - val_loss: 0.3866 - val_acc: 0.8652\n",
            "Epoch 9/20\n",
            "15000/15000 [==============================] - 2s 129us/step - loss: 0.0660 - acc: 0.9821 - val_loss: 0.3639 - val_acc: 0.8776\n",
            "Epoch 10/20\n",
            "15000/15000 [==============================] - 2s 128us/step - loss: 0.0559 - acc: 0.9847 - val_loss: 0.3862 - val_acc: 0.8776\n",
            "Epoch 11/20\n",
            "15000/15000 [==============================] - 2s 130us/step - loss: 0.0434 - acc: 0.9902 - val_loss: 0.4177 - val_acc: 0.8770\n",
            "Epoch 12/20\n",
            "15000/15000 [==============================] - 2s 130us/step - loss: 0.0381 - acc: 0.9913 - val_loss: 0.4549 - val_acc: 0.8702\n",
            "Epoch 13/20\n",
            "15000/15000 [==============================] - 2s 130us/step - loss: 0.0291 - acc: 0.9940 - val_loss: 0.4714 - val_acc: 0.8737\n",
            "Epoch 14/20\n",
            "15000/15000 [==============================] - 2s 129us/step - loss: 0.0259 - acc: 0.9941 - val_loss: 0.5059 - val_acc: 0.8716\n",
            "Epoch 15/20\n",
            "15000/15000 [==============================] - 2s 127us/step - loss: 0.0186 - acc: 0.9971 - val_loss: 0.5335 - val_acc: 0.8710\n",
            "Epoch 16/20\n",
            "15000/15000 [==============================] - 2s 129us/step - loss: 0.0164 - acc: 0.9975 - val_loss: 0.5677 - val_acc: 0.8682\n",
            "Epoch 17/20\n",
            "15000/15000 [==============================] - 2s 131us/step - loss: 0.0134 - acc: 0.9981 - val_loss: 0.5962 - val_acc: 0.8675\n",
            "Epoch 18/20\n",
            "15000/15000 [==============================] - 2s 130us/step - loss: 0.0091 - acc: 0.9991 - val_loss: 0.6287 - val_acc: 0.8674\n",
            "Epoch 19/20\n",
            "15000/15000 [==============================] - 2s 129us/step - loss: 0.0105 - acc: 0.9979 - val_loss: 0.6561 - val_acc: 0.8673\n",
            "Epoch 20/20\n",
            "15000/15000 [==============================] - 2s 129us/step - loss: 0.0046 - acc: 0.9999 - val_loss: 0.6946 - val_acc: 0.8644\n"
          ],
          "name": "stdout"
        }
      ]
    },
    {
      "metadata": {
        "id": "e6-WSVWNCe3U",
        "colab_type": "code",
        "outputId": "cc080805-25a7-45bf-c9eb-f1f41151b96e",
        "colab": {
          "base_uri": "https://localhost:8080/",
          "height": 34
        }
      },
      "cell_type": "code",
      "source": [
        "# a dictionary containing data about everything that happened during training\n",
        "history.history.keys()"
      ],
      "execution_count": 9,
      "outputs": [
        {
          "output_type": "execute_result",
          "data": {
            "text/plain": [
              "dict_keys(['val_loss', 'val_acc', 'loss', 'acc'])"
            ]
          },
          "metadata": {
            "tags": []
          },
          "execution_count": 9
        }
      ]
    },
    {
      "metadata": {
        "id": "xRp_k54zB5FC",
        "colab_type": "code",
        "colab": {}
      },
      "cell_type": "code",
      "source": [
        "import matplotlib.pyplot as plt\n",
        "\n",
        "history_dict = history.history\n",
        "loss_values = history_dict['loss']\n",
        "val_loss_values = history_dict['val_loss']\n",
        "acc = history.history['acc']\n",
        "\n",
        "epochs = range(1, len(acc) + 1)"
      ],
      "execution_count": 0,
      "outputs": []
    },
    {
      "metadata": {
        "id": "CcWtPxrZCrdP",
        "colab_type": "code",
        "outputId": "dfe011f1-38ef-4d40-978c-3802ee07e412",
        "colab": {
          "base_uri": "https://localhost:8080/",
          "height": 376
        }
      },
      "cell_type": "code",
      "source": [
        "# plot the training and validation loss\n",
        "plt.plot(epochs, loss_values, 'bo', label='Training loss')\n",
        "plt.plot(epochs, val_loss_values, 'b', label='Validation loss')\n",
        "plt.title('Training and validation loss')\n",
        "plt.xlabel('Epochs')\n",
        "plt.ylabel('Loss')\n",
        "plt.legend()\n",
        "\n",
        "plt.show()"
      ],
      "execution_count": 11,
      "outputs": [
        {
          "output_type": "display_data",
          "data": {
            "image/png": "[encoded data removed]",
            "text/plain": [
              "<Figure size 576x396 with 1 Axes>"
            ]
          },
          "metadata": {
            "tags": []
          }
        }
      ]
    },
    {
      "metadata": {
        "id": "GiQpzXDEEF12",
        "colab_type": "code",
        "outputId": "ea0b6023-f877-460c-e123-9874d0caeb23",
        "colab": {
          "base_uri": "https://localhost:8080/",
          "height": 376
        }
      },
      "cell_type": "code",
      "source": [
        "# plot the training and validation accuracy\n",
        "plt.clf()\n",
        "val_acc = history_dict['val_acc']\n",
        "\n",
        "plt.plot(epochs, acc, 'bo', label='Training accuray')\n",
        "plt.plot(epochs, val_acc, 'b', label='Validation accuracy')\n",
        "plt.title('Training and validation accuracy')\n",
        "plt.xlabel('Epochs')\n",
        "plt.ylabel('Loss')\n",
        "plt.legend()\n",
        "\n",
        "plt.show()"
      ],
      "execution_count": 12,
      "outputs": [
        {
          "output_type": "display_data",
          "data": {
            "image/png": "[encoded data removed]",
            "text/plain": [
              "<Figure size 576x396 with 1 Axes>"
            ]
          },
          "metadata": {
            "tags": []
          }
        }
      ]
    },
    {
      "metadata": {
        "id": "XhPaCG8ZEzm0",
        "colab_type": "code",
        "outputId": "0760fa92-bcf9-46fb-de3a-202009213e78",
        "colab": {
          "base_uri": "https://localhost:8080/",
          "height": 168
        }
      },
      "cell_type": "code",
      "source": [
        "# reduce the epochs and retrain the model\n",
        "model = models.Sequential()\n",
        "model.add(layers.Dense(16, activation='relu', input_shape=(10000,)))\n",
        "model.add(layers.Dense(16, activation='relu'))\n",
        "model.add(layers.Dense(1, activation='sigmoid'))\n",
        "\n",
        "model.compile(optimizer='rmsprop', loss='binary_crossentropy', metrics=['accuracy'])\n",
        "\n",
        "model.fit(x_train, y_train, epochs=4, batch_size=512)\n"
      ],
      "execution_count": 13,
      "outputs": [
        {
          "output_type": "stream",
          "text": [
            "Epoch 1/4\n",
            "25000/25000 [==============================] - 2s 98us/step - loss: 0.4733 - acc: 0.8221\n",
            "Epoch 2/4\n",
            "25000/25000 [==============================] - 2s 93us/step - loss: 0.2671 - acc: 0.9097\n",
            "Epoch 3/4\n",
            "25000/25000 [==============================] - 2s 92us/step - loss: 0.2032 - acc: 0.9284\n",
            "Epoch 4/4\n",
            "25000/25000 [==============================] - 2s 91us/step - loss: 0.1716 - acc: 0.9386\n"
          ],
          "name": "stdout"
        },
        {
          "output_type": "execute_result",
          "data": {
            "text/plain": [
              "<keras.callbacks.History at 0x7ff394369550>"
            ]
          },
          "metadata": {
            "tags": []
          },
          "execution_count": 13
        }
      ]
    },
    {
      "metadata": {
        "id": "JvA-CkqLHKW4",
        "colab_type": "code",
        "outputId": "e28841ec-256f-4718-f871-ad0cfa4d96bd",
        "colab": {
          "base_uri": "https://localhost:8080/",
          "height": 118
        }
      },
      "cell_type": "code",
      "source": [
        "# training and test performance\n",
        "(train_loss, train_acc) = model.evaluate(x_train, y_train)\n",
        "(test_loss, test_acc) = model.evaluate(x_test, y_test)\n",
        "\n",
        "print(\"train loss: \", train_loss)\n",
        "print(\"train accuracy: \", train_acc)\n",
        "\n",
        "print(\"test loss: \", test_loss)\n",
        "print(\"test accuracy: \", test_acc)"
      ],
      "execution_count": 14,
      "outputs": [
        {
          "output_type": "stream",
          "text": [
            "25000/25000 [==============================] - 2s 70us/step\n",
            "25000/25000 [==============================] - 2s 68us/step\n",
            "train loss:  0.14699044765949248\n",
            "train accuracy:  0.95\n",
            "test loss:  0.3115376090812683\n",
            "test accuracy:  0.87616\n"
          ],
          "name": "stdout"
        }
      ]
    },
    {
      "metadata": {
        "id": "0NZeKcdYIbUp",
        "colab_type": "code",
        "colab": {
          "base_uri": "https://localhost:8080/",
          "height": 168
        },
        "outputId": "075b24b4-b443-4381-a030-3048ede307ac"
      },
      "cell_type": "code",
      "source": [
        "# add one more layer and retrain the model\n",
        "model2 = models.Sequential()\n",
        "model2.add(layers.Dense(16, activation='relu', input_shape=(10000,)))\n",
        "model2.add(layers.Dense(16, activation='relu'))\n",
        "model2.add(layers.Dense(16, activation='relu'))\n",
        "model2.add(layers.Dense(1, activation='sigmoid'))\n",
        "\n",
        "model2.compile(optimizer='rmsprop', loss='binary_crossentropy', metrics=['accuracy'])\n",
        "\n",
        "model2.fit(x_train, y_train, epochs=4, batch_size=512)"
      ],
      "execution_count": 15,
      "outputs": [
        {
          "output_type": "stream",
          "text": [
            "Epoch 1/4\n",
            "25000/25000 [==============================] - 3s 101us/step - loss: 0.4534 - acc: 0.8150\n",
            "Epoch 2/4\n",
            "25000/25000 [==============================] - 2s 92us/step - loss: 0.2539 - acc: 0.9096\n",
            "Epoch 3/4\n",
            "25000/25000 [==============================] - 2s 92us/step - loss: 0.1948 - acc: 0.9308\n",
            "Epoch 4/4\n",
            "25000/25000 [==============================] - 2s 91us/step - loss: 0.1650 - acc: 0.9401\n"
          ],
          "name": "stdout"
        },
        {
          "output_type": "execute_result",
          "data": {
            "text/plain": [
              "<keras.callbacks.History at 0x7ff395971c50>"
            ]
          },
          "metadata": {
            "tags": []
          },
          "execution_count": 15
        }
      ]
    },
    {
      "metadata": {
        "id": "bLZRplciJBvI",
        "colab_type": "code",
        "colab": {
          "base_uri": "https://localhost:8080/",
          "height": 118
        },
        "outputId": "bccc7ab1-3245-493d-d359-f7684600bdca"
      },
      "cell_type": "code",
      "source": [
        "# training and test performance\n",
        "(train_loss2, train_acc2) = model2.evaluate(x_train, y_train)\n",
        "(test_loss2, test_acc2) = model2.evaluate(x_test, y_test)\n",
        "\n",
        "print(\"train loss: \", train_loss2)\n",
        "print(\"train accuracy: \", train_acc2)\n",
        "\n",
        "print(\"test loss: \", test_loss2)\n",
        "print(\"test accuracy: \", test_acc2)"
      ],
      "execution_count": 16,
      "outputs": [
        {
          "output_type": "stream",
          "text": [
            "25000/25000 [==============================] - 2s 69us/step\n",
            "25000/25000 [==============================] - 2s 68us/step\n",
            "train loss:  0.1251910840201378\n",
            "train accuracy:  0.95936\n",
            "test loss:  0.30279565120220187\n",
            "test accuracy:  0.88256\n"
          ],
          "name": "stdout"
        }
      ]
    }
  ]
}