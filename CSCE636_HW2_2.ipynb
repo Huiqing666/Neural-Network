{
  "nbformat": 4,
  "nbformat_minor": 0,
  "metadata": {
    "colab": {
      "name": "CSCE636_HW2_2.ipynb",
      "version": "0.3.2",
      "provenance": []
    },
    "kernelspec": {
      "name": "python3",
      "display_name": "Python 3"
    }
  },
  "cells": [
    {
      "metadata": {
        "id": "tSveJ_FMF1po",
        "colab_type": "text"
      },
      "cell_type": "markdown",
      "source": [
        "CSCE 636 Homework 2-2 Multiclass classification"
      ]
    },
    {
      "metadata": {
        "id": "kqgO_0yB77Jk",
        "colab_type": "code",
        "outputId": "7c27f5a4-f81f-48ae-cc23-5d188775f118",
        "colab": {
          "base_uri": "https://localhost:8080/",
          "height": 67
        }
      },
      "cell_type": "code",
      "source": [
        "# import reuters dataset\n",
        "from keras.datasets import reuters\n",
        "(train_data, train_labels), (test_data, test_labels) = reuters.load_data(num_words=10000)"
      ],
      "execution_count": 1,
      "outputs": [
        {
          "output_type": "stream",
          "text": [
            "Using TensorFlow backend.\n"
          ],
          "name": "stderr"
        },
        {
          "output_type": "stream",
          "text": [
            "Downloading data from https://s3.amazonaws.com/text-datasets/reuters.npz\n",
            "2113536/2110848 [==============================] - 0s 0us/step\n"
          ],
          "name": "stdout"
        }
      ]
    },
    {
      "metadata": {
        "id": "NS3Oz6sP84UN",
        "colab_type": "code",
        "colab": {}
      },
      "cell_type": "code",
      "source": [
        "# preparing the data\n",
        "# one-hot encode, vectorize the data\n",
        "import numpy as np\n",
        "\n",
        "def vectorize_sequences(sequences, dimension=10000):\n",
        "  results = np.zeros((len(sequences), dimension))\n",
        "  for i, sequence in enumerate(sequences):\n",
        "    results[i, sequence] = 1\n",
        "  return results\n",
        "\n",
        "x_train = vectorize_sequences(train_data)\n",
        "x_test = vectorize_sequences(test_data)\n",
        "  "
      ],
      "execution_count": 0,
      "outputs": []
    },
    {
      "metadata": {
        "id": "SnXbkgbX-d_4",
        "colab_type": "code",
        "colab": {}
      },
      "cell_type": "code",
      "source": [
        "# vectorize the labels\n",
        "from keras.utils.np_utils import to_categorical\n",
        "\n",
        "one_hot_train_labels = to_categorical(train_labels)\n",
        "one_hot_test_labels = to_categorical(test_labels)"
      ],
      "execution_count": 0,
      "outputs": []
    },
    {
      "metadata": {
        "id": "VqezR0vL-voz",
        "colab_type": "code",
        "colab": {}
      },
      "cell_type": "code",
      "source": [
        "# model definition\n",
        "from keras import models\n",
        "from keras import layers\n",
        "\n",
        "model = models.Sequential()\n",
        "model.add(layers.Dense(64, activation='relu', input_shape=(10000,)))\n",
        "model.add(layers.Dense(64, activation='relu'))\n",
        "model.add(layers.Dense(46, activation='softmax'))"
      ],
      "execution_count": 0,
      "outputs": []
    },
    {
      "metadata": {
        "id": "9Hk7Zk4L_sl3",
        "colab_type": "code",
        "colab": {}
      },
      "cell_type": "code",
      "source": [
        "# compile the model\n",
        "model.compile(optimizer='rmsprop', loss='categorical_crossentropy', metrics=['accuracy'])"
      ],
      "execution_count": 0,
      "outputs": []
    },
    {
      "metadata": {
        "id": "4pm0GiIqAa4z",
        "colab_type": "code",
        "colab": {}
      },
      "cell_type": "code",
      "source": [
        "# create a validation set\n",
        "x_val = x_train[:1000]\n",
        "partial_x_train = x_train[1000:]\n",
        "\n",
        "y_val = one_hot_train_labels[:1000]\n",
        "partial_y_train = one_hot_train_labels[1000:]"
      ],
      "execution_count": 0,
      "outputs": []
    },
    {
      "metadata": {
        "id": "MaSEbNVKBXoD",
        "colab_type": "code",
        "outputId": "d411b9c4-4cba-47d6-b7fb-6414cae250cf",
        "colab": {
          "base_uri": "https://localhost:8080/",
          "height": 726
        }
      },
      "cell_type": "code",
      "source": [
        "# train the model\n",
        "history = model.fit(partial_x_train, \n",
        "                    partial_y_train,\n",
        "                    epochs=20,\n",
        "                    batch_size=512,\n",
        "                    validation_data=(x_val, y_val))"
      ],
      "execution_count": 10,
      "outputs": [
        {
          "output_type": "stream",
          "text": [
            "Train on 7982 samples, validate on 1000 samples\n",
            "Epoch 1/20\n",
            "7982/7982 [==============================] - 2s 195us/step - loss: 2.5317 - acc: 0.4957 - val_loss: 1.7209 - val_acc: 0.6120\n",
            "Epoch 2/20\n",
            "7982/7982 [==============================] - 1s 153us/step - loss: 1.4458 - acc: 0.6880 - val_loss: 1.3463 - val_acc: 0.7060\n",
            "Epoch 3/20\n",
            "7982/7982 [==============================] - 1s 154us/step - loss: 1.0960 - acc: 0.7653 - val_loss: 1.1717 - val_acc: 0.7430\n",
            "Epoch 4/20\n",
            "7982/7982 [==============================] - 1s 148us/step - loss: 0.8703 - acc: 0.8160 - val_loss: 1.0794 - val_acc: 0.7590\n",
            "Epoch 5/20\n",
            "7982/7982 [==============================] - 1s 149us/step - loss: 0.7037 - acc: 0.8472 - val_loss: 0.9848 - val_acc: 0.7820\n",
            "Epoch 6/20\n",
            "7982/7982 [==============================] - 1s 148us/step - loss: 0.5669 - acc: 0.8791 - val_loss: 0.9421 - val_acc: 0.8030\n",
            "Epoch 7/20\n",
            "7982/7982 [==============================] - 1s 149us/step - loss: 0.4583 - acc: 0.9043 - val_loss: 0.9090 - val_acc: 0.8010\n",
            "Epoch 8/20\n",
            "7982/7982 [==============================] - 1s 148us/step - loss: 0.3697 - acc: 0.9230 - val_loss: 0.9347 - val_acc: 0.7890\n",
            "Epoch 9/20\n",
            "7982/7982 [==============================] - 1s 149us/step - loss: 0.3034 - acc: 0.9310 - val_loss: 0.8920 - val_acc: 0.8080\n",
            "Epoch 10/20\n",
            "7982/7982 [==============================] - 1s 149us/step - loss: 0.2542 - acc: 0.9417 - val_loss: 0.9060 - val_acc: 0.8110\n",
            "Epoch 11/20\n",
            "7982/7982 [==============================] - 1s 150us/step - loss: 0.2187 - acc: 0.9471 - val_loss: 0.9167 - val_acc: 0.8120\n",
            "Epoch 12/20\n",
            "7982/7982 [==============================] - 1s 150us/step - loss: 0.1874 - acc: 0.9510 - val_loss: 0.9056 - val_acc: 0.8120\n",
            "Epoch 13/20\n",
            "7982/7982 [==============================] - 1s 149us/step - loss: 0.1702 - acc: 0.9528 - val_loss: 0.9329 - val_acc: 0.8090\n",
            "Epoch 14/20\n",
            "7982/7982 [==============================] - 1s 149us/step - loss: 0.1534 - acc: 0.9549 - val_loss: 0.9696 - val_acc: 0.8060\n",
            "Epoch 15/20\n",
            "7982/7982 [==============================] - 1s 150us/step - loss: 0.1389 - acc: 0.9560 - val_loss: 0.9696 - val_acc: 0.8140\n",
            "Epoch 16/20\n",
            "7982/7982 [==============================] - 1s 150us/step - loss: 0.1315 - acc: 0.9563 - val_loss: 1.0257 - val_acc: 0.8030\n",
            "Epoch 17/20\n",
            "7982/7982 [==============================] - 1s 148us/step - loss: 0.1220 - acc: 0.9579 - val_loss: 1.0233 - val_acc: 0.7950\n",
            "Epoch 18/20\n",
            "7982/7982 [==============================] - 1s 149us/step - loss: 0.1196 - acc: 0.9574 - val_loss: 1.0439 - val_acc: 0.8090\n",
            "Epoch 19/20\n",
            "7982/7982 [==============================] - 1s 149us/step - loss: 0.1136 - acc: 0.9594 - val_loss: 1.0995 - val_acc: 0.7960\n",
            "Epoch 20/20\n",
            "7982/7982 [==============================] - 1s 149us/step - loss: 0.1109 - acc: 0.9594 - val_loss: 1.0715 - val_acc: 0.8010\n"
          ],
          "name": "stdout"
        }
      ]
    },
    {
      "metadata": {
        "id": "e6-WSVWNCe3U",
        "colab_type": "code",
        "outputId": "27bc4828-ec9b-4680-f63d-68365a3c06bb",
        "colab": {
          "base_uri": "https://localhost:8080/",
          "height": 34
        }
      },
      "cell_type": "code",
      "source": [
        "# a dictionary containing data about everything that happened during training\n",
        "history.history.keys()"
      ],
      "execution_count": 11,
      "outputs": [
        {
          "output_type": "execute_result",
          "data": {
            "text/plain": [
              "dict_keys(['val_loss', 'val_acc', 'loss', 'acc'])"
            ]
          },
          "metadata": {
            "tags": []
          },
          "execution_count": 11
        }
      ]
    },
    {
      "metadata": {
        "id": "xRp_k54zB5FC",
        "colab_type": "code",
        "colab": {}
      },
      "cell_type": "code",
      "source": [
        "import matplotlib.pyplot as plt\n",
        "\n",
        "history_dict = history.history\n",
        "loss = history_dict['loss']\n",
        "val_loss = history_dict['val_loss']\n",
        "\n",
        "\n",
        "epochs = range(1, len(loss) + 1)"
      ],
      "execution_count": 0,
      "outputs": []
    },
    {
      "metadata": {
        "id": "CcWtPxrZCrdP",
        "colab_type": "code",
        "outputId": "a32b6e83-1a73-4302-96b1-b3e556b74c43",
        "colab": {
          "base_uri": "https://localhost:8080/",
          "height": 376
        }
      },
      "cell_type": "code",
      "source": [
        "# plot the training and validation loss\n",
        "plt.plot(epochs, loss, 'bo', label='Training loss')\n",
        "plt.plot(epochs, val_loss, 'b', label='Validation loss')\n",
        "plt.title('Training and validation loss')\n",
        "plt.xlabel('Epochs')\n",
        "plt.ylabel('Loss')\n",
        "plt.legend()\n",
        "\n",
        "plt.show()"
      ],
      "execution_count": 13,
      "outputs": [
        {
          "output_type": "display_data",
          "data": {
            "image/png": "[encoded data removed]",
            "text/plain": [
              "<Figure size 576x396 with 1 Axes>"
            ]
          },
          "metadata": {
            "tags": []
          }
        }
      ]
    },
    {
      "metadata": {
        "id": "GiQpzXDEEF12",
        "colab_type": "code",
        "outputId": "58dfd832-098c-4e70-dfbc-0df8f56383c1",
        "colab": {
          "base_uri": "https://localhost:8080/",
          "height": 376
        }
      },
      "cell_type": "code",
      "source": [
        "# plot the training and validation accuracy\n",
        "plt.clf()\n",
        "acc = history.history['acc']\n",
        "val_acc = history_dict['val_acc']\n",
        "\n",
        "plt.plot(epochs, acc, 'bo', label='Training accuray')\n",
        "plt.plot(epochs, val_acc, 'b', label='Validation accuracy')\n",
        "plt.title('Training and validation accuracy')\n",
        "plt.xlabel('Epochs')\n",
        "plt.ylabel('Loss')\n",
        "plt.legend()\n",
        "\n",
        "plt.show()"
      ],
      "execution_count": 14,
      "outputs": [
        {
          "output_type": "display_data",
          "data": {
            "image/png": "[encoded data removed]",
            "text/plain": [
              "<Figure size 576x396 with 1 Axes>"
            ]
          },
          "metadata": {
            "tags": []
          }
        }
      ]
    },
    {
      "metadata": {
        "id": "XhPaCG8ZEzm0",
        "colab_type": "code",
        "outputId": "bd46aebf-9b87-44b7-e371-d4531673068a",
        "colab": {
          "base_uri": "https://localhost:8080/",
          "height": 336
        }
      },
      "cell_type": "code",
      "source": [
        "# reduce the epochs to 9 (overfit after nine) and retrain the model\n",
        "model = models.Sequential()\n",
        "model.add(layers.Dense(64, activation='relu', input_shape=(10000,)))\n",
        "model.add(layers.Dense(64, activation='relu'))\n",
        "model.add(layers.Dense(46, activation='softmax'))\n",
        "\n",
        "model.compile(optimizer='rmsprop', loss='categorical_crossentropy', metrics=['accuracy'])\n",
        "\n",
        "model.fit(x_train, \n",
        "          one_hot_train_labels,\n",
        "          epochs=9,\n",
        "          batch_size=512)"
      ],
      "execution_count": 15,
      "outputs": [
        {
          "output_type": "stream",
          "text": [
            "Epoch 1/9\n",
            "8982/8982 [==============================] - 2s 194us/step - loss: 2.4435 - acc: 0.5331\n",
            "Epoch 2/9\n",
            "8982/8982 [==============================] - 1s 151us/step - loss: 1.3236 - acc: 0.7165\n",
            "Epoch 3/9\n",
            "8982/8982 [==============================] - 1s 141us/step - loss: 0.9739 - acc: 0.7876\n",
            "Epoch 4/9\n",
            "8982/8982 [==============================] - 1s 140us/step - loss: 0.7562 - acc: 0.8393\n",
            "Epoch 5/9\n",
            "8982/8982 [==============================] - 1s 140us/step - loss: 0.5961 - acc: 0.8768\n",
            "Epoch 6/9\n",
            "8982/8982 [==============================] - 1s 143us/step - loss: 0.4746 - acc: 0.9006\n",
            "Epoch 7/9\n",
            "8982/8982 [==============================] - 1s 142us/step - loss: 0.3828 - acc: 0.9173\n",
            "Epoch 8/9\n",
            "8982/8982 [==============================] - 1s 142us/step - loss: 0.3072 - acc: 0.9350\n",
            "Epoch 9/9\n",
            "8982/8982 [==============================] - 1s 141us/step - loss: 0.2587 - acc: 0.9414\n"
          ],
          "name": "stdout"
        },
        {
          "output_type": "execute_result",
          "data": {
            "text/plain": [
              "<keras.callbacks.History at 0x7f6597e36be0>"
            ]
          },
          "metadata": {
            "tags": []
          },
          "execution_count": 15
        }
      ]
    },
    {
      "metadata": {
        "id": "JvA-CkqLHKW4",
        "colab_type": "code",
        "outputId": "f584490b-b40a-43d0-b144-12d8ebd02937",
        "colab": {
          "base_uri": "https://localhost:8080/",
          "height": 118
        }
      },
      "cell_type": "code",
      "source": [
        "# training and test performance\n",
        "(train_loss, train_acc) = model.evaluate(x_train, one_hot_train_labels)\n",
        "(test_loss, test_acc) = model.evaluate(x_test, one_hot_test_labels)\n",
        "\n",
        "print(\"train loss: \", train_loss)\n",
        "print(\"train accuracy: \", train_acc)\n",
        "\n",
        "print(\"test loss: \", test_loss)\n",
        "print(\"test accuracy: \", test_acc)"
      ],
      "execution_count": 16,
      "outputs": [
        {
          "output_type": "stream",
          "text": [
            "8982/8982 [==============================] - 1s 124us/step\n",
            "2246/2246 [==============================] - 0s 121us/step\n",
            "train loss:  0.20651774142751236\n",
            "train accuracy:  0.9521264751327513\n",
            "test loss:  0.9794521444308789\n",
            "test accuracy:  0.7916295637218207\n"
          ],
          "name": "stdout"
        }
      ]
    },
    {
      "metadata": {
        "id": "cNTvruYwOZv2",
        "colab_type": "code",
        "colab": {}
      },
      "cell_type": "code",
      "source": [
        ""
      ],
      "execution_count": 0,
      "outputs": []
    }
  ]
}